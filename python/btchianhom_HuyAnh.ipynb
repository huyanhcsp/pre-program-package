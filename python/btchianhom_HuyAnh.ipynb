{
 "cells": [
  {
   "cell_type": "code",
   "execution_count": 6,
   "metadata": {},
   "outputs": [
    {
     "name": "stdout",
     "output_type": "stream",
     "text": [
      "Group 1: An, Khoi\n",
      "Group 2: Lan, Phuc\n",
      "Group 3: Thien Long, Tuan\n",
      "Group 4: Nhat Long, Diep\n",
      "Group 5: Huy Anh, Bao\n"
     ]
    }
   ],
   "source": [
    "import random\n",
    "students = ['Tuan','Lan',\n",
    "            'Thien Long','Diep',\n",
    "            'Huy Anh','Khoi',\n",
    "            'Phuc','An',\n",
    "            'Nhat Long','Bao']\n",
    "random.shuffle(students)\n",
    "pointer=0;group=1\n",
    "while pointer<10:\n",
    "    print(\"Group {}: {}, {}\".format(group,students[pointer],students[pointer+1]))\n",
    "    pointer=pointer+2\n",
    "    group=group+1"
   ]
  },
  {
   "cell_type": "code",
   "execution_count": null,
   "metadata": {
    "collapsed": true
   },
   "outputs": [],
   "source": []
  },
  {
   "cell_type": "code",
   "execution_count": null,
   "metadata": {
    "collapsed": true
   },
   "outputs": [],
   "source": []
  }
 ],
 "metadata": {
  "kernelspec": {
   "display_name": "Python 3",
   "language": "python",
   "name": "python3"
  },
  "language_info": {
   "codemirror_mode": {
    "name": "ipython",
    "version": 3
   },
   "file_extension": ".py",
   "mimetype": "text/x-python",
   "name": "python",
   "nbconvert_exporter": "python",
   "pygments_lexer": "ipython3",
   "version": "3.6.1"
  }
 },
 "nbformat": 4,
 "nbformat_minor": 2
}
